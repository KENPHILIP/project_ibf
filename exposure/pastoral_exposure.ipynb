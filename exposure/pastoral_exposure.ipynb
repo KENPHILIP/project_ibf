{
 "cells": [
  {
   "cell_type": "code",
   "execution_count": 7,
   "id": "91611748",
   "metadata": {},
   "outputs": [
    {
     "data": {
      "text/plain": [
       "'https://gee-community-catalog.org/projects/gdis/'"
      ]
     },
     "execution_count": 7,
     "metadata": {},
     "output_type": "execute_result"
    }
   ],
   "source": [
    "\"https://africaopendata.org/dataset/avcdlivestockrangeland\"\n",
    "\"https://www.nature.com/articles/s41597-021-01100-9\"\n",
    "\"https://lpdaac.usgs.gov/documents/1374/GFSAD30AFCE_User_Guide_V1.pdf\"\n",
    "\"https://www.sciencedirect.com/science/article/pii/S0303243422000186\"\n",
    "\"https://climate.copernicus.eu/drought-impact-water-resources-forecasting-tool\"\n",
    "\"https://dynamicworld.app/about\"\n",
    "\"https://southsudan.crisisgroup.org/\"\n",
    "\"https://www.ssec.wisc.edu/flood-map-demo/flood-products/\"\n",
    "\"https://www.internal-displacement.org/database/displacement-data\"\n",
    "\"https://centre.humdata.org/flood-risks-for-south-sudans-2022-rainy-season/\"\n",
    "\"https://storyteller.iom.int/stories/better-days-come-ensuring-well-being-flood-affected-communities-south-sudan\"\n",
    "\"https://www.thecairoreview.com/essays/a-climate-crisis-in-africa-the-case-of-south-sudan/\"\n",
    "\"https://www.aer.com/weather-risk-management/floodscan-near-real-time-and-historical-flood-mapping/\"\n",
    "\"https://www.aer.com/contentassets/22663ebfdb7c467599f363466b32770f/afm_algo_descr_doc_v05r00_r00.pdf\"\n",
    "\"https://assets.researchsquare.com/files/rs-2152248/v1/108549ca-c7c5-472e-9efb-c19be0868d3a.pdf?c=1666019971\"\n",
    "\"https://pastoralismjournal.springeropen.com/articles/10.1186/s13570-020-00179-w\"\n",
    "\"https://opendocs.ids.ac.uk/opendocs/handle/20.500.12413/12082\"\n",
    "\"https://www.sciencedirect.com/science/article/pii/S2352771422000891\"\n",
    "\"https://www.sciencedirect.com/science/article/pii/S0034425722002243\"\n",
    "\"https://icpald.org/wp-content/uploads/2021/02/Geodatabase-Development-and-Mapping-of-Livestock-Markets-and-Trade-Routes.pdf\"\n",
    "\"https://cgspace.cgiar.org/bitstream/handle/10568/97100/ilc_route_report.pdf?sequence=1&isAllowed=y\"\n",
    "\"https://par.nsf.gov/servlets/purl/10147551\"\n",
    "\"http://www.faoswalim.org/information-management/information-services/remote-sensing\"\n",
    "\"https://ris.utwente.nl/ws/portalfiles/portal/282598769/Remote_Sens_Ecol_Conserv_2022_Duporge_A_satellite_perspective_on_the_movement_decisions_of_African_elephants_in.pdf\"\n",
    "\"https://www.sciencedirect.com/science/article/abs/pii/S0016718518302355\"\n",
    "\"https://pastoralismjournal.springeropen.com/articles/10.1186/s13570-017-0104-2\"\n",
    "\"https://earlywarning.usgs.gov/fews/software-tools/25\"\n",
    "\"file:///tmp/mozilla_bulbul0/water-and-sanitation-mapping-in-east-africa.pdf\"\n",
    "\"https://www.researchgate.net/publication/241307772_Monitoring_Water_Resources_in_Pastoral_Areas_of_East_Africa_Using_Satellite_Data_and_Hydrologic_Modeling\"\n",
    "\"https://pastoralismjournal.springeropen.com/articles/10.1186/2041-7136-3-20\"\n",
    "\"https://www.sciencedirect.com/science/article/pii/S2212094718300343\"\n",
    "\"https://blackland.tamu.edu/models/phygrow/\"\n",
    "\"https://cnritag.tamu.edu/2022/04/25/phygrow-test/\"\n",
    "\"http://research.agrilife.org/cnrit/wp-content/uploads/sites/21/2022/04/PHYGROW_user_guide.pdf\"\n",
    "\"https://github.com/jlu-ilr-hydro\"\n",
    "\"https://github.com/jlu-ilr-hydro/pmf\"\n",
    "\"https://git.geomar.de/jonathan-durgadoo/foci-mops\"\n",
    "\"https://gee-community-catalog.org/projects/gdis/\"\n"
   ]
  },
  {
   "cell_type": "code",
   "execution_count": 6,
   "id": "851b0d35",
   "metadata": {},
   "outputs": [],
   "source": [
    "\n",
    "url = \"http://www.faoswalim.org/resources/site_files/L-11%20Application%20of%20Remote%20Sensing%20Techniques%20in%20Assessing%20Pastoral%20Resources%20in%20Puntland.pdf\"\n"
   ]
  }
 ],
 "metadata": {
  "kernelspec": {
   "display_name": "venv",
   "language": "python",
   "name": "python3"
  },
  "language_info": {
   "codemirror_mode": {
    "name": "ipython",
    "version": 3
   },
   "file_extension": ".py",
   "mimetype": "text/x-python",
   "name": "python",
   "nbconvert_exporter": "python",
   "pygments_lexer": "ipython3",
   "version": "3.13.1"
  }
 },
 "nbformat": 4,
 "nbformat_minor": 5
}
